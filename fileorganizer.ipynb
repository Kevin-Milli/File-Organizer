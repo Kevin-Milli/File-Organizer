{
 "cells": [
  {
   "cell_type": "code",
   "execution_count": 1,
   "metadata": {},
   "outputs": [],
   "source": [
    "import os\n",
    "import shutil\n",
    "import csv\n",
    "import sys\n",
    "import argparse"
   ]
  },
  {
   "cell_type": "code",
   "execution_count": 3,
   "metadata": {},
   "outputs": [
    {
     "name": "stdout",
     "output_type": "stream",
     "text": [
      "Idea type:odt size:4932B\n",
      "Test type:txt size:32B\n",
      "bw type:png size:94926B\n",
      "eclipse type:png size:64243B\n",
      "excel type:xlsx size:9562B\n",
      "flouer type:jpg size:24657B\n",
      "song1 type:mp3 size:1087849B\n",
      "song2 type:mp3 size:764176B\n",
      "trump type:jpeg size:10195B\n"
     ]
    }
   ],
   "source": [
    "# Lista delle estensioni per categoria\n",
    "estensioni = {\n",
    "    \"png\": \"images\",\n",
    "    \"jpeg\": \"images\",\n",
    "    \"jpg\": \"images\",\n",
    "    \"txt\": \"documents\",\n",
    "    \"xlsx\":\"documents\",\n",
    "    \"doc\": \"documents\",\n",
    "    \"odt\": \"documents\",\n",
    "    \"mp3\": \"audio\",\n",
    "    \"wav\": \"audio\"}\n",
    "\n",
    "to_avoid = ['csv']\n",
    "\n",
    "# Percorso della cartella files e del file recap.csv\n",
    "file_path = 'files'\n",
    "recap_path = os.path.join(file_path, 'recap.csv')\n",
    "\n",
    "# Verifica se il file recap.csv esiste già e, in caso contrario, crea il file e scrive l'intestazione delle colonne\n",
    "if not os.path.exists(recap_path):\n",
    "    with open(recap_path, 'w', newline='') as recap_file:\n",
    "        writer = csv.writer(recap_file)\n",
    "        writer.writerow(['Nome file', 'Tipo file', 'Dimensione file (MB)'])\n",
    "\n",
    "        \n",
    "# Apertura del file di recap e iterazione sui file\n",
    "f = open(recap_path, 'a', newline='')\n",
    "\n",
    "for filename in sorted(os.listdir('files')):\n",
    "    file_name = filename.split(\".\")[0]\n",
    "    file_path = os.path.join('files', filename)\n",
    "    file_size = os.path.getsize(file_path)\n",
    "    file_type = filename.split(\".\")[-1]\n",
    "    \n",
    "    # spostamento in sottocartella appropriata\n",
    "    if file_type in estensioni.keys():\n",
    "        subfolder = estensioni[file_type]\n",
    "    else:\n",
    "        if not to_avoid:\n",
    "            print(\"not valid extension\")\n",
    "        else:\n",
    "            continue\n",
    "    \n",
    "        \n",
    "    subfolder_path = os.path.join(\"files\", subfolder)\n",
    "    if not os.path.exists(subfolder_path):\n",
    "        os.mkdir(subfolder_path)\n",
    "    \n",
    "    try:\n",
    "        shutil.move(file_path, os.path.join(subfolder_path, filename))\n",
    "    except shutil.SameFileError:\n",
    "        pass\n",
    "    \n",
    "    \n",
    "    # Stampa informazioni del file\n",
    "    print(f'{file_name} type:{file_type} size:{file_size}B')\n",
    "    \n",
    "    \n",
    "    # Aggiunta informazioni del file al file recap.csv\n",
    "    writer = csv.writer(f)\n",
    "    writer.writerow([file_name,file_type,file_size])\n",
    "\n",
    "f.close()"
   ]
  }
 ],
 "metadata": {
  "kernelspec": {
   "display_name": "Python 3 (ipykernel)",
   "language": "python",
   "name": "python3"
  },
  "language_info": {
   "codemirror_mode": {
    "name": "ipython",
    "version": 3
   },
   "file_extension": ".py",
   "mimetype": "text/x-python",
   "name": "python",
   "nbconvert_exporter": "python",
   "pygments_lexer": "ipython3",
   "version": "3.9.13"
  }
 },
 "nbformat": 4,
 "nbformat_minor": 4
}
